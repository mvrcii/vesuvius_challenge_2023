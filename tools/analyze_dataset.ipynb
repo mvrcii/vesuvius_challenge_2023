{
 "cells": [
  {
   "cell_type": "code",
   "execution_count": 1,
   "id": "4704393c-5620-4bc3-807b-b6772911853c",
   "metadata": {},
   "outputs": [],
   "source": [
    "import pandas as pd"
   ]
  },
  {
   "cell_type": "code",
   "execution_count": 29,
   "id": "67eaa2a7-ff3b-4ade-ba23-344e18218ae5",
   "metadata": {},
   "outputs": [
    {
     "name": "stderr",
     "output_type": "stream",
     "text": [
      "C:\\Users\\Micha\\AppData\\Local\\Temp\\ipykernel_15640\\1893498800.py:1: DtypeWarning: Columns (2) have mixed types. Specify dtype option on import or set low_memory=False.\n",
      "  df = pd.read_csv(\"data/label_infos.csv\")\n"
     ]
    }
   ],
   "source": [
    "df = pd.read_csv(\"data/label_infos.csv\")"
   ]
  },
  {
   "cell_type": "code",
   "execution_count": 30,
   "id": "958ffcda-c2af-4e3f-9ad7-6f8a20a0cf34",
   "metadata": {},
   "outputs": [
    {
     "data": {
      "text/plain": [
       "177354"
      ]
     },
     "execution_count": 30,
     "metadata": {},
     "output_type": "execute_result"
    }
   ],
   "source": [
    "len(df)"
   ]
  },
  {
   "cell_type": "code",
   "execution_count": 32,
   "id": "02f4ddfa-472b-43f9-9844-8899872223ea",
   "metadata": {},
   "outputs": [
    {
     "name": "stdout",
     "output_type": "stream",
     "text": [
      "13276\n",
      "0.07485593784183046\n"
     ]
    }
   ],
   "source": [
    "ink_rows = df[df['ink_p'] > 5]\n",
    "ink_row_count = ink_rows.shape[0]\n",
    "print(ink_row_count)\n",
    "print(ink_row_count/len(df))"
   ]
  },
  {
   "cell_type": "code",
   "execution_count": 28,
   "id": "d0b93cd8-299d-41d3-bb92-286e021513e5",
   "metadata": {},
   "outputs": [
    {
     "name": "stdout",
     "output_type": "stream",
     "text": [
      "1247\n"
     ]
    }
   ],
   "source": [
    "artefact_rows = df[df['artefact_p'] > 25]\n",
    "artefact_row_count = artefact_rows.shape[0]\n",
    "print(artefact_row_count)"
   ]
  },
  {
   "cell_type": "code",
   "execution_count": null,
   "id": "48b241cd-8e10-431e-8ce8-5f8ec9239cb2",
   "metadata": {},
   "outputs": [],
   "source": []
  },
  {
   "cell_type": "code",
   "execution_count": null,
   "id": "4a32f4fc-ebd7-4308-85fe-32b80d19e981",
   "metadata": {},
   "outputs": [],
   "source": []
  }
 ],
 "metadata": {
  "kernelspec": {
   "display_name": "Python 3 (ipykernel)",
   "language": "python",
   "name": "python3"
  },
  "language_info": {
   "codemirror_mode": {
    "name": "ipython",
    "version": 3
   },
   "file_extension": ".py",
   "mimetype": "text/x-python",
   "name": "python",
   "nbconvert_exporter": "python",
   "pygments_lexer": "ipython3",
   "version": "3.8.17"
  }
 },
 "nbformat": 4,
 "nbformat_minor": 5
}
