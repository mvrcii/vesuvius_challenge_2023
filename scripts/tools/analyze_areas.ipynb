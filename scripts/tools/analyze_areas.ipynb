{
 "cells": [
  {
   "cell_type": "code",
   "execution_count": 1,
   "id": "6c3fa2cf-c2ae-440e-8ec7-11b04f0b8e28",
   "metadata": {},
   "outputs": [],
   "source": [
    "import os"
   ]
  },
  {
   "cell_type": "code",
   "execution_count": 4,
   "id": "050c1e13-8dd6-4790-9069-88732bc6f264",
   "metadata": {},
   "outputs": [],
   "source": [
    "import pandas as pd"
   ]
  },
  {
   "cell_type": "code",
   "execution_count": 7,
   "id": "9248e002-1e0c-432c-ac97-faeacd6b68f1",
   "metadata": {},
   "outputs": [],
   "source": [
    "df = pd.read_csv(\"util/unused/areas.csv\")"
   ]
  },
  {
   "cell_type": "code",
   "execution_count": 8,
   "id": "8b48979b-9862-46e9-bac9-a232b2b00320",
   "metadata": {},
   "outputs": [
    {
     "data": {
      "text/plain": [
       "Index(['ID', 'Area', 'Date'], dtype='object')"
      ]
     },
     "execution_count": 8,
     "metadata": {},
     "output_type": "execute_result"
    }
   ],
   "source": [
    "df.columns"
   ]
  },
  {
   "cell_type": "code",
   "execution_count": 9,
   "id": "667bf328-cef6-4388-8742-9039c46653da",
   "metadata": {},
   "outputs": [],
   "source": [
    "df_sorted = df.sort_values(by='Area')"
   ]
  },
  {
   "cell_type": "code",
   "execution_count": 10,
   "id": "fc7bbd6a-de0c-4a55-a95a-2365a36ce155",
   "metadata": {},
   "outputs": [
    {
     "data": {
      "text/html": [
       "<div>\n",
       "<style scoped>\n",
       "    .dataframe tbody tr th:only-of-type {\n",
       "        vertical-align: middle;\n",
       "    }\n",
       "\n",
       "    .dataframe tbody tr th {\n",
       "        vertical-align: top;\n",
       "    }\n",
       "\n",
       "    .dataframe thead th {\n",
       "        text-align: right;\n",
       "    }\n",
       "</style>\n",
       "<table border=\"1\" class=\"dataframe\">\n",
       "  <thead>\n",
       "    <tr style=\"text-align: right;\">\n",
       "      <th></th>\n",
       "      <th>ID</th>\n",
       "      <th>Area</th>\n",
       "      <th>Date</th>\n",
       "    </tr>\n",
       "  </thead>\n",
       "  <tbody>\n",
       "    <tr>\n",
       "      <th>0</th>\n",
       "      <td>../</td>\n",
       "      <td>-1.000000</td>\n",
       "      <td>NaN</td>\n",
       "    </tr>\n",
       "    <tr>\n",
       "      <th>228</th>\n",
       "      <td>20230929220921_superseded/</td>\n",
       "      <td>-1.000000</td>\n",
       "      <td>09-Oct-2023 02:54       -</td>\n",
       "    </tr>\n",
       "    <tr>\n",
       "      <th>1</th>\n",
       "      <td>20230503225234/</td>\n",
       "      <td>0.013324</td>\n",
       "      <td>03-Aug-2023 16:57       -</td>\n",
       "    </tr>\n",
       "    <tr>\n",
       "      <th>18</th>\n",
       "      <td>20230507175928/</td>\n",
       "      <td>0.021295</td>\n",
       "      <td>03-Aug-2023 13:57       -</td>\n",
       "    </tr>\n",
       "    <tr>\n",
       "      <th>19</th>\n",
       "      <td>20230508164013/</td>\n",
       "      <td>0.024953</td>\n",
       "      <td>03-Aug-2023 14:06       -</td>\n",
       "    </tr>\n",
       "    <tr>\n",
       "      <th>...</th>\n",
       "      <td>...</td>\n",
       "      <td>...</td>\n",
       "      <td>...</td>\n",
       "    </tr>\n",
       "    <tr>\n",
       "      <th>246</th>\n",
       "      <td>20231022170900/</td>\n",
       "      <td>98.423400</td>\n",
       "      <td>26-Oct-2023 08:42       -</td>\n",
       "    </tr>\n",
       "    <tr>\n",
       "      <th>244</th>\n",
       "      <td>20231012184421/</td>\n",
       "      <td>109.343000</td>\n",
       "      <td>17-Nov-2023 20:17       -</td>\n",
       "    </tr>\n",
       "    <tr>\n",
       "      <th>231</th>\n",
       "      <td>20230929220925/</td>\n",
       "      <td>112.919000</td>\n",
       "      <td>01-Dec-2023 15:14       -</td>\n",
       "    </tr>\n",
       "    <tr>\n",
       "      <th>236</th>\n",
       "      <td>20231005123335_superseded/</td>\n",
       "      <td>159.061000</td>\n",
       "      <td>17-Nov-2023 17:21       -</td>\n",
       "    </tr>\n",
       "    <tr>\n",
       "      <th>237</th>\n",
       "      <td>20231005123336/</td>\n",
       "      <td>178.712000</td>\n",
       "      <td>24-Nov-2023 16:47       -</td>\n",
       "    </tr>\n",
       "  </tbody>\n",
       "</table>\n",
       "<p>253 rows × 3 columns</p>\n",
       "</div>"
      ],
      "text/plain": [
       "                             ID        Area                       Date\n",
       "0                           ../   -1.000000                        NaN\n",
       "228  20230929220921_superseded/   -1.000000  09-Oct-2023 02:54       -\n",
       "1               20230503225234/    0.013324  03-Aug-2023 16:57       -\n",
       "18              20230507175928/    0.021295  03-Aug-2023 13:57       -\n",
       "19              20230508164013/    0.024953  03-Aug-2023 14:06       -\n",
       "..                          ...         ...                        ...\n",
       "246             20231022170900/   98.423400  26-Oct-2023 08:42       -\n",
       "244             20231012184421/  109.343000  17-Nov-2023 20:17       -\n",
       "231             20230929220925/  112.919000  01-Dec-2023 15:14       -\n",
       "236  20231005123335_superseded/  159.061000  17-Nov-2023 17:21       -\n",
       "237             20231005123336/  178.712000  24-Nov-2023 16:47       -\n",
       "\n",
       "[253 rows x 3 columns]"
      ]
     },
     "execution_count": 10,
     "metadata": {},
     "output_type": "execute_result"
    }
   ],
   "source": [
    "df_sorted"
   ]
  },
  {
   "cell_type": "code",
   "execution_count": null,
   "id": "516e9362-df5d-481f-9330-bc5f40ecf784",
   "metadata": {},
   "outputs": [],
   "source": []
  }
 ],
 "metadata": {
  "kernelspec": {
   "display_name": "Python 3 (ipykernel)",
   "language": "python",
   "name": "python3"
  },
  "language_info": {
   "codemirror_mode": {
    "name": "ipython",
    "version": 3
   },
   "file_extension": ".py",
   "mimetype": "text/x-python",
   "name": "python",
   "nbconvert_exporter": "python",
   "pygments_lexer": "ipython3",
   "version": "3.8.17"
  }
 },
 "nbformat": 4,
 "nbformat_minor": 5
}
