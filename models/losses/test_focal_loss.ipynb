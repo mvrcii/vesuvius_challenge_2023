{
 "cells": [
  {
   "cell_type": "code",
   "execution_count": 4,
   "id": "95220f99-ee18-491e-a3f5-735e8abe1d56",
   "metadata": {},
   "outputs": [],
   "source": [
    "import random\n",
    "\n",
    "import ipywidgets as widgets\n",
    "import matplotlib.pyplot as plt\n",
    "import torch\n",
    "import numpy as np\n",
    "\n",
    "from models.losses.focal_loss import MaskedFocalLoss"
   ]
  },
  {
   "cell_type": "code",
   "execution_count": 5,
   "id": "71f42a9b-a0c6-46bb-a3ad-3fba4bb47304",
   "metadata": {},
   "outputs": [],
   "source": [
    "def combined_plot(y_pred, y_true, y_mask, loss, gamma, alpha, title):\n",
    "    \"\"\"\n",
    "    Create a combined plot with the test case (y_pred, y_true, y_mask) on the left\n",
    "    and the current loss value for a specific combination of alpha and gamma on the right.\n",
    "    :param y_pred: Predicted labels tensor.\n",
    "    :param y_true: True labels tensor.\n",
    "    :param y_mask: Mask tensor.\n",
    "    :param loss: Current loss value.\n",
    "    :param gamma: Current gamma value.\n",
    "    :param alpha: Current alpha value.\n",
    "    :param title: Title for the combined plot.\n",
    "    \"\"\"\n",
    "    fig = plt.figure(figsize=(16, 6))\n",
    "\n",
    "    # Plot for y_pred, y_true, y_mask\n",
    "    ax1 = fig.add_subplot(1, 2, 1)\n",
    "    ax1.imshow(y_pred[0], cmap='Blues', alpha=0.5, label='y_pred')  # Blue for y_pred\n",
    "    ax1.imshow(y_true[0], cmap='Reds', alpha=0.5, label='y_true')   # Red for y_true\n",
    "    ax1.set_title('y_pred (Blue) and y_true (Red) Overlap')\n",
    "    ax1.grid(False)\n",
    "\n",
    "    # Loss value plot\n",
    "    ax2 = fig.add_subplot(1, 2, 2)\n",
    "    ax2.text(0.5, 0.5, f'Loss: {loss:.4f}\\nGamma: {gamma}\\nAlpha: {alpha}',\n",
    "             horizontalalignment='center', verticalalignment='center',\n",
    "             fontsize=16, transform=ax2.transAxes)\n",
    "    ax2.set_title('Current Loss Value')\n",
    "    ax2.axis('off')\n",
    "\n",
    "    plt.suptitle(title)\n",
    "    plt.show()"
   ]
  },
  {
   "cell_type": "code",
   "execution_count": 13,
   "id": "a07b200e-4ca8-43ee-a5db-9bfdea32bbb7",
   "metadata": {},
   "outputs": [
    {
     "data": {
      "application/vnd.jupyter.widget-view+json": {
       "model_id": "f0c0c10c81ec4a65bdf85a96c5958afd",
       "version_major": 2,
       "version_minor": 0
      },
      "text/plain": [
       "interactive(children=(FloatSlider(value=1.0, description='Gamma:', max=5.0, min=1.0, step=1.0), FloatSlider(va…"
      ]
     },
     "execution_count": 13,
     "metadata": {},
     "output_type": "execute_result"
    }
   ],
   "source": [
    "def create_test_case(overlap_percentage, positive_pixels_percentage):\n",
    "    tensor_size = (1, 256, 256)\n",
    "    total_pixels = tensor_size[1] * tensor_size[2]\n",
    "    num_positive_pixels = int(total_pixels * positive_pixels_percentage / 100)\n",
    "    side_length = int(np.sqrt(num_positive_pixels))  # Side length of the square\n",
    "\n",
    "    # Initialize tensors\n",
    "    y_pred = torch.zeros(tensor_size)\n",
    "    y_true = torch.zeros(tensor_size)\n",
    "\n",
    "    # Calculate starting points for squares\n",
    "    start_pred = (np.random.randint(0, tensor_size[1] - side_length), np.random.randint(0, tensor_size[2] - side_length))\n",
    "    overlap_side_length = int(side_length * np.sqrt(overlap_percentage / 100))\n",
    "    start_true = (start_pred[0] + side_length - overlap_side_length, start_pred[1] + side_length - overlap_side_length)\n",
    "\n",
    "    # Ensure the square for y_true is within bounds\n",
    "    start_true = (min(start_true[0], tensor_size[1] - side_length), min(start_true[1], tensor_size[2] - side_length))\n",
    "\n",
    "    # Assign squares\n",
    "    y_pred[0, start_pred[0]:start_pred[0]+side_length, start_pred[1]:start_pred[1]+side_length] = 1\n",
    "    y_true[0, start_true[0]:start_true[0]+side_length, start_true[1]:start_true[1]+side_length] = 1\n",
    "\n",
    "    # Mask remains the same\n",
    "    y_mask = torch.ones(tensor_size)\n",
    "\n",
    "    return y_pred, y_true, y_mask\n",
    "\n",
    "\n",
    "def update_plot(gamma, alpha, overlap, positive_pixels):\n",
    "    y_pred, y_true, y_mask = create_test_case(overlap_percentage=overlap, positive_pixels_percentage=positive_pixels)\n",
    "    loss_fn = MaskedFocalLoss(gamma=gamma, alpha=alpha)\n",
    "    loss = loss_fn(y_pred_unmasked=y_pred, y_true_unmasked=y_true, y_mask=y_mask).item()\n",
    "    combined_plot(y_pred, y_true, y_mask, loss, gamma, alpha, \"Interactive Focal Loss Visualization\")\n",
    "\n",
    "gamma_slider = widgets.FloatSlider(value=1.0, min=1.0, max=5.0, step=1.0, description='Gamma:')\n",
    "alpha_slider = widgets.FloatSlider(value=0.25, min=0.0, max=1.0, step=0.05, description='Alpha:')\n",
    "overlap_slider = widgets.IntSlider(value=50, min=0, max=100, step=1, description='Overlap %:')\n",
    "positive_pixels_slider = widgets.IntSlider(value=50, min=0, max=100, step=1, description='Positive Pixels %:')\n",
    "\n",
    "widgets.interactive(update_plot, gamma=gamma_slider, alpha=alpha_slider, overlap=overlap_slider, positive_pixels=positive_pixels_slider)"
   ]
  },
  {
   "cell_type": "code",
   "execution_count": null,
   "id": "d0781601-6efa-40fd-81e7-543ca67069ec",
   "metadata": {},
   "outputs": [],
   "source": []
  }
 ],
 "metadata": {
  "kernelspec": {
   "display_name": "Python 3 (ipykernel)",
   "language": "python",
   "name": "python3"
  },
  "language_info": {
   "codemirror_mode": {
    "name": "ipython",
    "version": 3
   },
   "file_extension": ".py",
   "mimetype": "text/x-python",
   "name": "python",
   "nbconvert_exporter": "python",
   "pygments_lexer": "ipython3",
   "version": "3.8.18"
  }
 },
 "nbformat": 4,
 "nbformat_minor": 5
}
